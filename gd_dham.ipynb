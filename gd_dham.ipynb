{
 "cells": [
  {
   "cell_type": "code",
   "execution_count": 1,
   "metadata": {},
   "outputs": [],
   "source": [
    "from sympy import *\n",
    "import numpy as np"
   ]
  },
  {
   "cell_type": "code",
   "execution_count": 1,
   "metadata": {},
   "outputs": [],
   "source": [
    "# f = lambda x : E**sin(x)\n",
    "n = 6\n",
    "# X = np.linspace(0, 2, n)\n",
    "# Y = [ f(x) for x in X ]\n",
    "# for i in range(len(X)):\n",
    "#     print(X[i], Y[i])\n",
    "X = [1, 1.2, 1.4, 1.6, 1.8, 2.0]\n",
    "Y = [0.4401, 0.4983, 0.5419, 0.5699, 0.5815, 0.5767]\n",
    "\n",
    "h = 0.2"
   ]
  },
  {
   "cell_type": "code",
   "execution_count": 3,
   "metadata": {},
   "outputs": [
    {
     "data": {
      "text/latex": [
       "$\\displaystyle -1.06899799271712$"
      ],
      "text/plain": [
       "-1.06899799271712"
      ]
     },
     "execution_count": 3,
     "metadata": {},
     "output_type": "execute_result"
    }
   ],
   "source": [
    "(-3*Y[0] + 4*Y[1] - Y[2]) / 2 / h                               #f'(x0)\n",
    "[ (Y[i+1] - Y[i-1]) / 2 / h for i in range(1, n-1) ]            #f'(xi)\n",
    "(3*Y[n-1] - 4*Y[n-1-1] + Y[n-2-1]) / 2 / h                      #f'(xn)"
   ]
  },
  {
   "cell_type": "code",
   "execution_count": 4,
   "metadata": {},
   "outputs": [
    {
     "data": {
      "text/plain": [
       "[1,\n",
       " 1.19546419510366,\n",
       " 1.35959834726278,\n",
       " 1.45161583358583,\n",
       " 1.42755807407983,\n",
       " 1.25338076749345,\n",
       " 0.920273659517131,\n",
       " 0.455344771376687,\n",
       " -0.0793386938800342,\n",
       " -0.601657013112956,\n",
       " -1.03311686799583]"
      ]
     },
     "execution_count": 4,
     "metadata": {},
     "output_type": "execute_result"
    }
   ],
   "source": [
    "# Test đáp án f'(x):\n",
    "x = symbols('x')\n",
    "f(x).diff()\n",
    "[ f(x).diff().subs(x, a) for a in X]"
   ]
  },
  {
   "cell_type": "code",
   "execution_count": 20,
   "metadata": {},
   "outputs": [
    {
     "data": {
      "text/plain": [
       "[-0.365, -0.3900000000000028, -0.4099999999999964, -0.410000000000002]"
      ]
     },
     "execution_count": 20,
     "metadata": {},
     "output_type": "execute_result"
    }
   ],
   "source": [
    "(Y[0] - 2*Y[1] + Y[2]) / h**2           #f\"(x0)\n",
    "[ (Y[i+1] - 2*Y[i] + Y[i-1]) / h**2 for i in range(1, n-1)]         #f\"(xi)\n",
    "# (Y[n-1] - 2*Y[n-1-1] + Y[n-1-2]) / h**2             #f\"(xn)"
   ]
  },
  {
   "cell_type": "code",
   "execution_count": 21,
   "metadata": {},
   "outputs": [
    {
     "data": {
      "text/plain": [
       "0.54"
      ]
     },
     "execution_count": 21,
     "metadata": {},
     "output_type": "execute_result"
    }
   ],
   "source": [
    "sum( [ (X[i] - X[i-1]) * (Y[i] + Y[i-1]) / 2 for i in range(1, n)])     #I\n"
   ]
  },
  {
   "cell_type": "code",
   "execution_count": 6,
   "metadata": {},
   "outputs": [
    {
     "data": {
      "text/plain": [
       "[1,\n",
       " 0.929301913188167,\n",
       " 0.677444043744218,\n",
       " 0.204966423297511,\n",
       " -0.475279547307017,\n",
       " -1.27482037042070,\n",
       " -2.03361508936045,\n",
       " -2.56264238506971,\n",
       " -2.71364778348333,\n",
       " -2.44216166291121,\n",
       " -1.82747322357883]"
      ]
     },
     "execution_count": 6,
     "metadata": {},
     "output_type": "execute_result"
    }
   ],
   "source": [
    "# Test f\"(x):\n",
    "f(x).diff(x, 2)\n",
    "[ f(x).diff(x, 2).subs(x, a) for a in X]"
   ]
  },
  {
   "cell_type": "code",
   "execution_count": null,
   "metadata": {},
   "outputs": [],
   "source": []
  }
 ],
 "metadata": {
  "kernelspec": {
   "display_name": "Python 3",
   "language": "python",
   "name": "python3"
  },
  "language_info": {
   "codemirror_mode": {
    "name": "ipython",
    "version": 3
   },
   "file_extension": ".py",
   "mimetype": "text/x-python",
   "name": "python",
   "nbconvert_exporter": "python",
   "pygments_lexer": "ipython3",
   "version": "3.12.1"
  }
 },
 "nbformat": 4,
 "nbformat_minor": 2
}
