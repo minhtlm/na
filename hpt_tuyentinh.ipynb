{
 "cells": [
  {
   "cell_type": "code",
   "execution_count": 18,
   "metadata": {},
   "outputs": [],
   "source": [
    "import numpy as np"
   ]
  },
  {
   "cell_type": "code",
   "execution_count": 13,
   "metadata": {},
   "outputs": [],
   "source": [
    "# Hệ chéo trội: output là B và g\n",
    "A = [ [-15.4, 1, 6.3], \n",
    "      [-4.2, 16.8, 3.3],\n",
    "      [-2.4, 5.3, 15.9] ]\n",
    "b = [30, 25, -10]\n",
    "\n",
    "\n",
    "m = lambda i, j: -A[i][j] / A[i][i] if i != j else 0\n",
    "B = np.array( [[m(i, j) for j in range(len(b))] for i in range(len(b))])\n",
    "g = [ b[i] / A[i][i] for i in range(len(b))]"
   ]
  },
  {
   "cell_type": "code",
   "execution_count": 19,
   "metadata": {},
   "outputs": [],
   "source": [
    "B = np.array([[-0.21, -0.28, 0.05],\n",
    "             [0.19, 0.01, -0.26],\n",
    "             [0.39, -0.12, -0.06]])\n",
    "g = [-0.9, 3.8, -2.9]"
   ]
  },
  {
   "cell_type": "code",
   "execution_count": 20,
   "metadata": {},
   "outputs": [
    {
     "data": {
      "text/plain": [
       "0.5700000000000001"
      ]
     },
     "execution_count": 20,
     "metadata": {},
     "output_type": "execute_result"
    }
   ],
   "source": [
    "q = np.linalg.norm(B, np.inf)\n",
    "q"
   ]
  },
  {
   "cell_type": "code",
   "execution_count": 21,
   "metadata": {},
   "outputs": [
    {
     "name": "stdout",
     "output_type": "stream",
     "text": [
      "[-1.51  4.08 -3.08] 2.7572093023255824\n",
      "[-1.8793  4.3547 -3.7937] 0.9460674418604658\n",
      "[-1.914348  4.472842 -3.927869] 0.17785193023255758\n"
     ]
    }
   ],
   "source": [
    "# Hệ lặp: Phương pháp lặp đơn:\n",
    "x0 = [0 ,2, -1]\n",
    "for _ in range(3):\n",
    "    x = B.dot(x0) + g\n",
    "    ss = (q * np.linalg.norm(x - x0, np.inf))/(1-q)\n",
    "    x0 = x\n",
    "    print(x, ss)"
   ]
  },
  {
   "cell_type": "code",
   "execution_count": 22,
   "metadata": {},
   "outputs": [
    {
     "name": "stdout",
     "output_type": "stream",
     "text": [
      "[-1.5100000000000002, 3.7931, -3.8840719999999997]\n",
      "[-1.8391716, 4.498347116, -3.92403425792]\n",
      "[-1.969512869376, 4.49102493303776, -3.971590955545971]\n",
      "[-1.9424688264589114, 4.508454820745137, -3.9602819634756337]\n",
      "[-1.9524629944260488, 4.503789889770167, -3.964298436790041]\n"
     ]
    }
   ],
   "source": [
    "# Hệ lặp: Phương pháp Seidel:\n",
    "x = [0, 2, -1]\n",
    "for _ in range(5):\n",
    "    for i in range(len(x)):\n",
    "        x[i] = B[i].dot(x) + g[i]\n",
    "    print(x)"
   ]
  },
  {
   "cell_type": "code",
   "execution_count": null,
   "metadata": {},
   "outputs": [],
   "source": []
  }
 ],
 "metadata": {
  "kernelspec": {
   "display_name": "Python 3",
   "language": "python",
   "name": "python3"
  },
  "language_info": {
   "codemirror_mode": {
    "name": "ipython",
    "version": 3
   },
   "file_extension": ".py",
   "mimetype": "text/x-python",
   "name": "python",
   "nbconvert_exporter": "python",
   "pygments_lexer": "ipython3",
   "version": "3.12.1"
  }
 },
 "nbformat": 4,
 "nbformat_minor": 2
}
