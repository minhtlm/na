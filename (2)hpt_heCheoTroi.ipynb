{
 "cells": [
  {
   "cell_type": "code",
   "execution_count": 3,
   "metadata": {},
   "outputs": [
    {
     "data": {
      "text/plain": [
       "[-1.948051948051948, 1.4880952380952381, -0.6289308176100629]"
      ]
     },
     "execution_count": 3,
     "metadata": {},
     "output_type": "execute_result"
    }
   ],
   "source": [
    "import numpy as np\n",
    "A = [ [-15.4, 1, 6.3], \n",
    "      [-4.2, 16.8, 3.3],\n",
    "      [-2.4, 5.3, 15.9] ]\n",
    "b = [30, 25, -10]\n",
    "\n",
    "\n",
    "m = lambda i, j: -A[i][j] / A[i][i] if i != j else 0\n",
    "B = np.array( [[m(i, j) for j in range(len(b))] for i in range(len(b))])\n",
    "g = [ b[i] / A[i][i] for i in range(len(b))]"
   ]
  },
  {
   "cell_type": "code",
   "execution_count": null,
   "metadata": {},
   "outputs": [],
   "source": []
  }
 ],
 "metadata": {
  "kernelspec": {
   "display_name": "Python 3",
   "language": "python",
   "name": "python3"
  },
  "language_info": {
   "codemirror_mode": {
    "name": "ipython",
    "version": 3
   },
   "file_extension": ".py",
   "mimetype": "text/x-python",
   "name": "python",
   "nbconvert_exporter": "python",
   "pygments_lexer": "ipython3",
   "version": "3.12.1"
  }
 },
 "nbformat": 4,
 "nbformat_minor": 2
}
