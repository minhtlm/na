{
 "cells": [
  {
   "cell_type": "code",
   "execution_count": 5,
   "metadata": {},
   "outputs": [
    {
     "name": "stdout",
     "output_type": "stream",
     "text": [
      "2.2\n",
      "2.62\n",
      "3.084\n"
     ]
    }
   ],
   "source": [
    "# Ví dụ 1: Phương trình vi phân cấp 1:\n",
    "f = lambda x, y : y - x\n",
    "X = [0, 0.1, 0.3, 0.5]\n",
    "y = 2\n",
    "\n",
    "for n in range(len(X) - 1):\n",
    "    h = X[n+1] - X[n]\n",
    "    y = y + h * f(X[n], y)\n",
    "    print(y)"
   ]
  },
  {
   "cell_type": "code",
   "execution_count": 9,
   "metadata": {},
   "outputs": [
    {
     "name": "stdout",
     "output_type": "stream",
     "text": [
      "[-1.3  2. ]\n",
      "[-1.986  1.94 ]\n",
      "[-2.89036  1.7308 ]\n"
     ]
    }
   ],
   "source": [
    "# Ví dụ 2: Hệ phương trình vi phân cấp 1:\n",
    "import numpy as np\n",
    "\n",
    "f = lambda x, y : np.array([x * y[0] - y[1], y[0] + y[1] - 1])\n",
    "X = [1, 1.1, 1.3, 1.5]\n",
    "y = [-1, 2]\n",
    "\n",
    "for n in range(len(X) - 1):\n",
    "    h = X[n+1] - X[n]\n",
    "    y = y + h * f(X[n], y)\n",
    "    print(y)"
   ]
  },
  {
   "cell_type": "code",
   "execution_count": 8,
   "metadata": {},
   "outputs": [
    {
     "name": "stdout",
     "output_type": "stream",
     "text": [
      "[ 1.  -0.4 -1.8]\n",
      "[ 0.92  -0.76  -1.712]\n",
      "[ 0.844   -0.9312  -1.70128]\n"
     ]
    }
   ],
   "source": [
    "# Ví dụ 3: Phương trình vi phân cấp cao\n",
    "import numpy as np\n",
    "\n",
    "f = lambda x, y : np.array([y[1], y[2], x * y[2] - y[0]])\n",
    "X = [-1, -0.8, -0.6, -0.5]\n",
    "y = [1, 0, -2]\n",
    "\n",
    "for n in range(len(X) - 1):\n",
    "    h = X[n+1] - X[n]\n",
    "    y = y + h * f(X[n], y)\n",
    "    print(y)"
   ]
  },
  {
   "cell_type": "code",
   "execution_count": null,
   "metadata": {},
   "outputs": [],
   "source": []
  }
 ],
 "metadata": {
  "kernelspec": {
   "display_name": "Python 3",
   "language": "python",
   "name": "python3"
  },
  "language_info": {
   "codemirror_mode": {
    "name": "ipython",
    "version": 3
   },
   "file_extension": ".py",
   "mimetype": "text/x-python",
   "name": "python",
   "nbconvert_exporter": "python",
   "pygments_lexer": "ipython3",
   "version": "3.12.1"
  }
 },
 "nbformat": 4,
 "nbformat_minor": 2
}
