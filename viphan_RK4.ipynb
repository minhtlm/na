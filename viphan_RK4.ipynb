{
 "cells": [
  {
   "cell_type": "code",
   "execution_count": 14,
   "metadata": {},
   "outputs": [
    {
     "name": "stdout",
     "output_type": "stream",
     "text": [
      "2.2051708333333333\n",
      "2.649855655833333\n",
      "3.148713698034833\n"
     ]
    }
   ],
   "source": [
    "# Ví dụ 1: Phương trình vi phân cấp 1:\n",
    "\n",
    "# from sympy import *\n",
    "# h = 0.5\n",
    "# imax = floor((1-0)/h)\n",
    "# X = [0 + i*h for i in range(imax + 1)]\n",
    "\n",
    "f = lambda x, y: y - x\n",
    "X = [0, 0.1, 0.3, 0.5]\n",
    "y = 2\n",
    "\n",
    "for n in range(len(X) - 1):\n",
    "    h = X[n+1] - X[n]\n",
    "    k1 = h * f(X[n], y)\n",
    "    k2 = h * f(X[n] + h/2, y + k1/2)\n",
    "    k3 = h * f(X[n] + h/2, y + k2/2)\n",
    "    k4 = h * f(X[n] + h, y + k3)\n",
    "\n",
    "    y = y + (k1 + 2*k2 + 2*k3 + k4)/6\n",
    "    print(y)"
   ]
  },
  {
   "cell_type": "code",
   "execution_count": 7,
   "metadata": {},
   "outputs": [
    {
     "name": "stdout",
     "output_type": "stream",
     "text": [
      "[-1.32121997  1.98377289]\n",
      "[-2.11619361  1.82819918]\n",
      "[-3.18560532  1.43462193]\n"
     ]
    }
   ],
   "source": [
    "# Ví dụ 2: Hệ phương trình vi phân cấp 1:\n",
    "import numpy as np\n",
    "\n",
    "f = lambda x, y: np.array([x * y[0] - y[1], y[0] + y[1] - 1])\n",
    "X = [1, 1.1, 1.3, 1.5]\n",
    "y = [-1, 2]\n",
    "\n",
    "for n in range(len(X) - 1):\n",
    "    h = X[n+1] - X[n]\n",
    "    k1 = h * f(X[n], y)\n",
    "    k2 = h * f(X[n] + h/2, y + k1/2)\n",
    "    k3 = h * f(X[n] + h/2, y + k2/2)\n",
    "    k4 = h * f(X[n] + h, y + k3)\n",
    "\n",
    "    y = y + (k1 + 2*k2 + 2*k3 + k4)/6\n",
    "    print(y)"
   ]
  },
  {
   "cell_type": "code",
   "execution_count": 6,
   "metadata": {},
   "outputs": [
    {
     "name": "stdout",
     "output_type": "stream",
     "text": [
      "[ 0.96114    -0.38355933 -1.85169253]\n",
      "[ 0.84796575 -0.74572765 -1.78005173]\n",
      "[ 0.76452459 -0.92281499 -1.76341184]\n"
     ]
    }
   ],
   "source": [
    "# Ví dụ 3: Phương trình vi phân cấp cao:\n",
    "import numpy as np\n",
    "\n",
    "f = lambda x, y: np.array([y[1], y[2], x * y[2] - y[0]])\n",
    "X = [-1, -0.8, -0.6, -0.5]\n",
    "y = [1, 0, -2]\n",
    "\n",
    "for n in range(len(X) - 1):\n",
    "    h = X[n+1] - X[n]\n",
    "    k1 = h * f(X[n], y)\n",
    "    k2 = h * f(X[n] + h/2, y + k1/2)\n",
    "    k3 = h * f(X[n] + h/2, y + k2/2)\n",
    "    k4 = h * f(X[n] + h, y + k3)\n",
    "\n",
    "    y = y + (k1 + 2*k2 + 2*k3 + k4)/6\n",
    "    print(y)"
   ]
  },
  {
   "cell_type": "code",
   "execution_count": null,
   "metadata": {},
   "outputs": [],
   "source": []
  }
 ],
 "metadata": {
  "kernelspec": {
   "display_name": "Python 3",
   "language": "python",
   "name": "python3"
  },
  "language_info": {
   "codemirror_mode": {
    "name": "ipython",
    "version": 3
   },
   "file_extension": ".py",
   "mimetype": "text/x-python",
   "name": "python",
   "nbconvert_exporter": "python",
   "pygments_lexer": "ipython3",
   "version": "3.12.1"
  }
 },
 "nbformat": 4,
 "nbformat_minor": 2
}
