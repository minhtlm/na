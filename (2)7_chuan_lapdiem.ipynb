{
 "cells": [
  {
   "cell_type": "code",
   "execution_count": 22,
   "metadata": {},
   "outputs": [],
   "source": [
    "import numpy as np"
   ]
  },
  {
   "cell_type": "code",
   "execution_count": 24,
   "metadata": {},
   "outputs": [],
   "source": [
    "B = np.array([[-0.21, -0.28, 0.05],\n",
    "             [0.19, 0.01, -0.26],\n",
    "             [0.39, -0.12, -0.06]])"
   ]
  },
  {
   "cell_type": "code",
   "execution_count": 25,
   "metadata": {},
   "outputs": [],
   "source": [
    "g = np.array([-0.9, 3.8, -2.9])"
   ]
  },
  {
   "cell_type": "code",
   "execution_count": 27,
   "metadata": {},
   "outputs": [
    {
     "data": {
      "text/plain": [
       "0.5700000000000001"
      ]
     },
     "execution_count": 27,
     "metadata": {},
     "output_type": "execute_result"
    }
   ],
   "source": [
    "q = np.linalg.norm(B, np.inf)\n",
    "\n",
    "q"
   ]
  },
  {
   "cell_type": "code",
   "execution_count": 30,
   "metadata": {},
   "outputs": [
    {
     "name": "stdout",
     "output_type": "stream",
     "text": [
      "[-1.51  4.08 -3.08] 2.7572093023255824\n",
      "[-1.8793  4.3547 -3.7937] 0.9460674418604657\n",
      "[-1.914348  4.472842 -3.927869] 0.17785193023255758\n"
     ]
    }
   ],
   "source": [
    "# pp Lặp:\n",
    "x0 = np.array([0, 2, -1])\n",
    "\n",
    "for _ in range(3):\n",
    "    x = B.dot(x0) + g\n",
    "    ss = q / (1-q) * np.linalg.norm(x - x0, np.inf)\n",
    "    x0 = x\n",
    "    print(x, ss)"
   ]
  },
  {
   "cell_type": "code",
   "execution_count": 32,
   "metadata": {},
   "outputs": [
    {
     "name": "stdout",
     "output_type": "stream",
     "text": [
      "[-1.5100000000000002, 3.7931, -3.8840719999999997]\n",
      "[-1.8391716, 4.498347116, -3.92403425792]\n",
      "[-1.969512869376, 4.49102493303776, -3.971590955545971]\n",
      "[-1.9424688264589114, 4.508454820745137, -3.9602819634756337]\n",
      "[-1.9524629944260488, 4.503789889770167, -3.964298436790041]\n"
     ]
    }
   ],
   "source": [
    "# pp Seidel:\n",
    "x = [0, 2, -1]\n",
    "for _ in range(5):\n",
    "    for i in range(3):\n",
    "        x[i] = B[i].dot(x) + g[i]\n",
    "    print(x)"
   ]
  }
 ],
 "metadata": {
  "kernelspec": {
   "display_name": "Python 3",
   "language": "python",
   "name": "python3"
  },
  "language_info": {
   "codemirror_mode": {
    "name": "ipython",
    "version": 3
   },
   "file_extension": ".py",
   "mimetype": "text/x-python",
   "name": "python",
   "nbconvert_exporter": "python",
   "pygments_lexer": "ipython3",
   "version": "3.12.1"
  }
 },
 "nbformat": 4,
 "nbformat_minor": 2
}
