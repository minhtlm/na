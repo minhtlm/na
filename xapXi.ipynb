{
 "cells": [
  {
   "cell_type": "code",
   "execution_count": 4,
   "metadata": {},
   "outputs": [],
   "source": [
    "from sympy import *\n",
    "import numpy as np"
   ]
  },
  {
   "cell_type": "code",
   "execution_count": 3,
   "metadata": {},
   "outputs": [
    {
     "data": {
      "text/plain": [
       "0.05803254138010096"
      ]
     },
     "execution_count": 3,
     "metadata": {},
     "output_type": "execute_result"
    }
   ],
   "source": [
    "# Trường hợp rời rạc 1 biến:\n",
    "X = [1, 1.3, 1.7, 2]\n",
    "Y = [3.5, 4, 4.6, 5.2]\n",
    "\n",
    "x = symbols('x')\n",
    "cs = [1 + 0*x, x, log(x)]                   #cần xuất hiện biến\n",
    "\n",
    "V = [ [cs_i.subs(x, X_k) for X_k in X] for cs_i in cs]\n",
    "\n",
    "A = [ [np.dot(V_i, V_j) for V_j in V] for V_i in V]\n",
    "b = [np.dot(Y, V_i) for V_i in V]\n",
    "\n",
    "hs = np.linalg.solve(   np.array(A).astype(float),\n",
    "                        np.array(b).astype(float) )\n",
    "\n",
    "P = hs.dot(cs)\n",
    "\n",
    "[ P.subs(x, X_k) for X_k  in X]\n",
    "errors = [Y_k - P.subs(x, X_k) for (X_k, Y_k) in zip(X, Y)]\n",
    "np.linalg.norm(np.array(errors).astype(float))"
   ]
  },
  {
   "cell_type": "code",
   "execution_count": 5,
   "metadata": {},
   "outputs": [
    {
     "data": {
      "text/plain": [
       "29.615415816345017"
      ]
     },
     "execution_count": 5,
     "metadata": {},
     "output_type": "execute_result"
    }
   ],
   "source": [
    "# Trường hợp rời rạc 2 biến:\n",
    "X = [-0.7, 1.7, -4.9, 3.1, -1.3]\n",
    "Y = [-2.9, -1.1, -2.9, 1.5, 0.8]\n",
    "Z = [7.1, 5.8, -3.1, -1, -8.7]\n",
    "\n",
    "x, y = symbols('x y')\n",
    "cs = [1 + 0*x, x, y]\n",
    "\n",
    "V = [ [cs_i .subs({x: X_k, y: Y_k}) for (X_k, Y_k) in zip(X, Y)]\n",
    "    for cs_i in cs]\n",
    "\n",
    "A = [ [np.dot(V_i, V_j) for V_j in V] for V_i in V]\n",
    "b = [np.dot(Z, V_i) for V_i in V]\n",
    "\n",
    "hs = np.linalg.solve(   np.array(A, dtype = float),\n",
    "                        np.array(b, dtype = float) )\n",
    "\n",
    "P = hs.dot(cs)\n",
    "\n",
    "[P.subs({x: X_k, y: Y_k}) for (X_k, Y_k) in zip(X, Y)]\n",
    "errors = [Z_k - P.subs({x: X_k, y: Y_k})\n",
    "    for (X_k, Y_k, Z_k) in zip(Z, Y, Z)]\n",
    "np.linalg.norm( np.array(errors, dtype = float))"
   ]
  },
  {
   "cell_type": "code",
   "execution_count": null,
   "metadata": {},
   "outputs": [],
   "source": []
  }
 ],
 "metadata": {
  "kernelspec": {
   "display_name": "Python 3",
   "language": "python",
   "name": "python3"
  },
  "language_info": {
   "codemirror_mode": {
    "name": "ipython",
    "version": 3
   },
   "file_extension": ".py",
   "mimetype": "text/x-python",
   "name": "python",
   "nbconvert_exporter": "python",
   "pygments_lexer": "ipython3",
   "version": "3.12.1"
  }
 },
 "nbformat": 4,
 "nbformat_minor": 2
}
